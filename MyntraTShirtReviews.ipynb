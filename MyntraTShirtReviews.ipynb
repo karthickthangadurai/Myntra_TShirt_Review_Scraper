{
 "cells": [
  {
   "cell_type": "markdown",
   "metadata": {},
   "source": [
    "# Myntra T-Shirt Reviews NLP - Sentiment Analysis"
   ]
  },
  {
   "cell_type": "code",
   "execution_count": 3,
   "metadata": {},
   "outputs": [
    {
     "name": "stdout",
     "output_type": "stream",
     "text": [
      "Requirement already satisfied: selenium in d:\\vs_code\\pro_2\\.venv\\lib\\site-packages (4.20.0)\n",
      "Requirement already satisfied: urllib3[socks]<3,>=1.26 in d:\\vs_code\\pro_2\\.venv\\lib\\site-packages (from selenium) (2.0.4)\n",
      "Requirement already satisfied: trio~=0.17 in d:\\vs_code\\pro_2\\.venv\\lib\\site-packages (from selenium) (0.25.0)\n",
      "Requirement already satisfied: trio-websocket~=0.9 in d:\\vs_code\\pro_2\\.venv\\lib\\site-packages (from selenium) (0.11.1)\n",
      "Requirement already satisfied: certifi>=2021.10.8 in d:\\vs_code\\pro_2\\.venv\\lib\\site-packages (from selenium) (2023.7.22)\n",
      "Requirement already satisfied: typing_extensions>=4.9.0 in d:\\vs_code\\pro_2\\.venv\\lib\\site-packages (from selenium) (4.11.0)\n",
      "Requirement already satisfied: attrs>=23.2.0 in d:\\vs_code\\pro_2\\.venv\\lib\\site-packages (from trio~=0.17->selenium) (23.2.0)\n",
      "Requirement already satisfied: sortedcontainers in d:\\vs_code\\pro_2\\.venv\\lib\\site-packages (from trio~=0.17->selenium) (2.4.0)\n",
      "Requirement already satisfied: idna in d:\\vs_code\\pro_2\\.venv\\lib\\site-packages (from trio~=0.17->selenium) (3.4)\n",
      "Requirement already satisfied: outcome in d:\\vs_code\\pro_2\\.venv\\lib\\site-packages (from trio~=0.17->selenium) (1.3.0.post0)\n",
      "Requirement already satisfied: sniffio>=1.3.0 in d:\\vs_code\\pro_2\\.venv\\lib\\site-packages (from trio~=0.17->selenium) (1.3.1)\n",
      "Requirement already satisfied: cffi>=1.14 in d:\\vs_code\\pro_2\\.venv\\lib\\site-packages (from trio~=0.17->selenium) (1.16.0)\n",
      "Requirement already satisfied: exceptiongroup in d:\\vs_code\\pro_2\\.venv\\lib\\site-packages (from trio~=0.17->selenium) (1.2.0)\n",
      "Requirement already satisfied: wsproto>=0.14 in d:\\vs_code\\pro_2\\.venv\\lib\\site-packages (from trio-websocket~=0.9->selenium) (1.2.0)\n",
      "Requirement already satisfied: pysocks!=1.5.7,<2.0,>=1.5.6 in d:\\vs_code\\pro_2\\.venv\\lib\\site-packages (from urllib3[socks]<3,>=1.26->selenium) (1.7.1)\n",
      "Requirement already satisfied: pycparser in d:\\vs_code\\pro_2\\.venv\\lib\\site-packages (from cffi>=1.14->trio~=0.17->selenium) (2.22)\n",
      "Requirement already satisfied: h11<1,>=0.9.0 in d:\\vs_code\\pro_2\\.venv\\lib\\site-packages (from wsproto>=0.14->trio-websocket~=0.9->selenium) (0.14.0)\n"
     ]
    },
    {
     "name": "stderr",
     "output_type": "stream",
     "text": [
      "\n",
      "[notice] A new release of pip is available: 23.2.1 -> 24.0\n",
      "[notice] To update, run: python.exe -m pip install --upgrade pip\n"
     ]
    },
    {
     "name": "stdout",
     "output_type": "stream",
     "text": [
      "Collecting beautifulsoup4\n",
      "  Obtaining dependency information for beautifulsoup4 from https://files.pythonhosted.org/packages/b1/fe/e8c672695b37eecc5cbf43e1d0638d88d66ba3a44c4d321c796f4e59167f/beautifulsoup4-4.12.3-py3-none-any.whl.metadata\n",
      "  Using cached beautifulsoup4-4.12.3-py3-none-any.whl.metadata (3.8 kB)\n",
      "Collecting soupsieve>1.2 (from beautifulsoup4)\n",
      "  Obtaining dependency information for soupsieve>1.2 from https://files.pythonhosted.org/packages/4c/f3/038b302fdfbe3be7da016777069f26ceefe11a681055ea1f7817546508e3/soupsieve-2.5-py3-none-any.whl.metadata\n",
      "  Using cached soupsieve-2.5-py3-none-any.whl.metadata (4.7 kB)\n",
      "Using cached beautifulsoup4-4.12.3-py3-none-any.whl (147 kB)\n",
      "Using cached soupsieve-2.5-py3-none-any.whl (36 kB)\n",
      "Installing collected packages: soupsieve, beautifulsoup4\n",
      "Successfully installed beautifulsoup4-4.12.3 soupsieve-2.5\n"
     ]
    },
    {
     "name": "stderr",
     "output_type": "stream",
     "text": [
      "\n",
      "[notice] A new release of pip is available: 23.2.1 -> 24.0\n",
      "[notice] To update, run: python.exe -m pip install --upgrade pip\n"
     ]
    }
   ],
   "source": [
    "!pip install selenium\n",
    "!pip install beautifulsoup4"
   ]
  },
  {
   "cell_type": "code",
   "execution_count": 4,
   "metadata": {},
   "outputs": [],
   "source": [
    "import time\n",
    "import pandas as pd    \n",
    "# ------------- # \n",
    "import selenium\n",
    "from selenium import webdriver\n",
    "from selenium.webdriver.common.by import By\n",
    "from selenium.webdriver.common.keys import Keys\n",
    "import json\n",
    "from bs4 import BeautifulSoup\n",
    "import re"
   ]
  },
  {
   "cell_type": "code",
   "execution_count": 5,
   "metadata": {},
   "outputs": [
    {
     "name": "stdout",
     "output_type": "stream",
     "text": [
      "2060 Total\n",
      "400\n",
      "900\n",
      "1600\n",
      "1800\n"
     ]
    }
   ],
   "source": [
    "ProductDetails = {'ProductName':[],'ProductDef':[],'DiscountPrice':[],'OriginalPrice':[],\n",
    "                  'DiscountPercent':[],'Ratings':[],'ReviewText':[],'UserName':[],'DateReviewed':[],'ImageLinks':[],'Links':[]}\n",
    "\n",
    "driver = webdriver.Chrome()  \n",
    "\n",
    "AllProductLinks = []\n",
    "\n",
    "driver.get('https://www.myntra.com/reviews/11148764')\n",
    "\n",
    "# Maximize Window\n",
    "driver.maximize_window() \n",
    "driver.implicitly_wait(10)\n",
    "\n",
    "TotalReviewsText = driver.find_element(By.CLASS_NAME,'detailed-reviews-headline').text\n",
    "TotaleReviews = int(\"\".join(re.findall(r'\\d+', TotalReviewsText)))\n",
    "BreakReviewsCount = TotaleReviews-100\n",
    "\n",
    "print(TotaleReviews,'Total')\n",
    "body = driver.find_element(By.TAG_NAME,'body')\n",
    "\n",
    "elementboxes = driver.find_elements(By.CLASS_NAME,'user-review-userReviewWrapper')\n",
    "\n",
    "\n",
    "while TotaleReviews >= len(elementboxes):\n",
    "    \n",
    "    elementboxes = driver.find_elements(By.CLASS_NAME,'user-review-userReviewWrapper')\n",
    "    \n",
    "    body.send_keys(Keys.PAGE_DOWN)\n",
    "    time.sleep(0.8)\n",
    "\n",
    "    if len(elementboxes)%100==0:\n",
    "        print(len(elementboxes))\n",
    "\n",
    "        time.sleep(1)\n",
    "    \n",
    "    if TotaleReviews == len(elementboxes) or len(elementboxes) >= BreakReviewsCount:\n",
    "        break\n",
    "    \n",
    "#===================================Extracting All The Information=============================#\n",
    "soup = BeautifulSoup(driver.page_source,'html.parser')\n",
    "\n",
    "ProductName = soup.find('h1','product-details-brand').text\n",
    "ProductDef = soup.find('h1','product-details-name undefined').text\n",
    "ProductDiscountPrice = soup.find('span','product-details-price').text\n",
    "ProductOriginalPrice = soup.find('span','product-details-mrp').text\n",
    "ProductDiscountPercent = soup.find('span','product-details-discount').text\n",
    "\n",
    "Ratings = [i.text for i in soup.find_all('div','user-review-starWrapper')]\n",
    "ReviewText = [i.text for i in soup.find_all('div','user-review-reviewTextWrapper')]\n",
    "UserName = [i.find('span').text for i in soup.find_all('div','user-review-left')]\n",
    "DateReviewed = [i.find('span').find_next_sibling('span').text for i in soup.find_all('div','user-review-left')]\n",
    "\n",
    "#to get image links\n",
    "AllBoxes = soup.find_all('div','user-review-userReviewWrapper')\n",
    "ImagesLinks = []\n",
    "for i in AllBoxes:\n",
    "    \n",
    "    try:\n",
    "        \n",
    "        imageelements = i.find('div','image-thumb-wrapper-container').find_all('img')\n",
    "        image = [i.get('src') for i in imageelements]\n",
    "        ImagesLinks.append(image)\n",
    "            \n",
    "    except:\n",
    "        image = '-'\n",
    "        ImagesLinks.append(image)\n",
    "\n",
    "        \n",
    "        \n",
    "ProductDetails = {'ProductName':ProductName,'ProductDef':ProductDef,'DiscountPrice':ProductDiscountPrice,\n",
    "                  'OriginalPrice':ProductOriginalPrice,'DiscountPercent':ProductDiscountPercent,\n",
    "                  'Ratings':[Ratings],'ReviewText':[ReviewText],'UserName':[UserName],'DateReviewed':[DateReviewed],\n",
    "                  'ImagesLinks':[ImagesLinks]}\n"
   ]
  },
  {
   "cell_type": "code",
   "execution_count": 6,
   "metadata": {},
   "outputs": [],
   "source": [
    "\n",
    "ProductName = soup.find('h1','product-details-brand').text\n",
    "ProductDef = soup.find('h1','product-details-name undefined').text\n",
    "ProductDiscountPrice = soup.find('span','product-details-price').text\n",
    "ProductOriginalPrice = soup.find('span','product-details-mrp').text\n",
    "ProductDiscountPercent = soup.find('span','product-details-discount').text\n",
    "\n",
    "Ratings = [i.text for i in soup.find_all('div','user-review-starWrapper')]\n",
    "ReviewText = [i.text for i in soup.find_all('div','user-review-reviewTextWrapper')]\n",
    "UserName = [i.find('span').text for i in soup.find_all('div','user-review-left')]\n",
    "DateReviewed = [i.find('span').find_next_sibling('span').text for i in soup.find_all('div','user-review-left')]\n",
    "\n",
    "#to get image links\n",
    "AllBoxes = soup.find_all('div','user-review-userReviewWrapper')\n",
    "ImagesLinks = []\n",
    "for i in AllBoxes:\n",
    "    \n",
    "    try:\n",
    "        \n",
    "        imageelements = i.find('div','image-thumb-wrapper-container').find_all('img')\n",
    "        image = [i.get('src') for i in imageelements]\n",
    "        ImagesLinks.append(image)\n",
    "            \n",
    "    except:\n",
    "        image = '-'\n",
    "        ImagesLinks.append(image)\n",
    "        \n",
    "        \n",
    "ProductDetails = {'ProductName':ProductName,'ProductDef':ProductDef,'DiscountPrice':ProductDiscountPrice,\n",
    "                  'OriginalPrice':ProductOriginalPrice,'DiscountPercent':ProductDiscountPercent,\n",
    "                  'Ratings':[Ratings],'ReviewText':[ReviewText],'UserName':[UserName],'DateReviewed':[DateReviewed],\n",
    "                  'ImagesLinks':[ImagesLinks]}\n",
    "\n"
   ]
  },
  {
   "cell_type": "code",
   "execution_count": 8,
   "metadata": {},
   "outputs": [
    {
     "data": {
      "text/html": [
       "<div>\n",
       "<style scoped>\n",
       "    .dataframe tbody tr th:only-of-type {\n",
       "        vertical-align: middle;\n",
       "    }\n",
       "\n",
       "    .dataframe tbody tr th {\n",
       "        vertical-align: top;\n",
       "    }\n",
       "\n",
       "    .dataframe thead th {\n",
       "        text-align: right;\n",
       "    }\n",
       "</style>\n",
       "<table border=\"1\" class=\"dataframe\">\n",
       "  <thead>\n",
       "    <tr style=\"text-align: right;\">\n",
       "      <th></th>\n",
       "      <th>ProductName</th>\n",
       "      <th>ProductDef</th>\n",
       "      <th>DiscountPrice</th>\n",
       "      <th>OriginalPrice</th>\n",
       "      <th>DiscountPercent</th>\n",
       "      <th>Ratings</th>\n",
       "      <th>ReviewText</th>\n",
       "      <th>UserName</th>\n",
       "      <th>DateReviewed</th>\n",
       "      <th>ImagesLinks</th>\n",
       "    </tr>\n",
       "  </thead>\n",
       "  <tbody>\n",
       "    <tr>\n",
       "      <th>0</th>\n",
       "      <td>Huetrap</td>\n",
       "      <td>Men Beige &amp; Black Typography Printed Sustainab...</td>\n",
       "      <td>Rs. 340</td>\n",
       "      <td>Rs. 1099</td>\n",
       "      <td>(69% OFF)</td>\n",
       "      <td>[4, 4, 5, 4, 4, 5, 4, 4, 3, 3, 4, 5, 4, 5, 5, ...</td>\n",
       "      <td>[It's perfect! You can definitely go with this...</td>\n",
       "      <td>[Akash Akash, Apurva Vora, R P Singh, Ashwani ...</td>\n",
       "      <td>[11 Feb 2023, 23 Feb 2021, 8 May 2021, 2 Mar 2...</td>\n",
       "      <td>[[https://assets.myntassets.com/h_150,q_75,w_1...</td>\n",
       "    </tr>\n",
       "  </tbody>\n",
       "</table>\n",
       "</div>"
      ],
      "text/plain": [
       "  ProductName                                         ProductDef  \\\n",
       "0     Huetrap  Men Beige & Black Typography Printed Sustainab...   \n",
       "\n",
       "  DiscountPrice OriginalPrice DiscountPercent  \\\n",
       "0       Rs. 340      Rs. 1099       (69% OFF)   \n",
       "\n",
       "                                             Ratings  \\\n",
       "0  [4, 4, 5, 4, 4, 5, 4, 4, 3, 3, 4, 5, 4, 5, 5, ...   \n",
       "\n",
       "                                          ReviewText  \\\n",
       "0  [It's perfect! You can definitely go with this...   \n",
       "\n",
       "                                            UserName  \\\n",
       "0  [Akash Akash, Apurva Vora, R P Singh, Ashwani ...   \n",
       "\n",
       "                                        DateReviewed  \\\n",
       "0  [11 Feb 2023, 23 Feb 2021, 8 May 2021, 2 Mar 2...   \n",
       "\n",
       "                                         ImagesLinks  \n",
       "0  [[https://assets.myntassets.com/h_150,q_75,w_1...  "
      ]
     },
     "execution_count": 8,
     "metadata": {},
     "output_type": "execute_result"
    }
   ],
   "source": [
    "pd.DataFrame(ProductDetails).to_csv('TShirtDataHarvestMaestro.xlsx',index = False)\n",
    "pd.DataFrame(ProductDetails).head()"
   ]
  }
 ],
 "metadata": {
  "kernelspec": {
   "display_name": ".venv",
   "language": "python",
   "name": "python3"
  },
  "language_info": {
   "codemirror_mode": {
    "name": "ipython",
    "version": 3
   },
   "file_extension": ".py",
   "mimetype": "text/x-python",
   "name": "python",
   "nbconvert_exporter": "python",
   "pygments_lexer": "ipython3",
   "version": "3.10.0"
  }
 },
 "nbformat": 4,
 "nbformat_minor": 2
}
